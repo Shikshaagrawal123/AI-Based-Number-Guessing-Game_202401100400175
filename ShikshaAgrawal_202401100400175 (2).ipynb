{
  "cells": [
    {
      "cell_type": "code",
      "execution_count": 3,
      "metadata": {
        "colab": {
          "base_uri": "https://localhost:8080/"
        },
        "id": "FoDkXoaDVqMP",
        "outputId": "575caeda-cf27-4fc7-9b12-6ab4504635f0"
      },
      "outputs": [
        {
          "output_type": "stream",
          "name": "stdout",
          "text": [
            "Welcome to the 'Guessing a number' Game\n",
            "Press S to Start the game: s\n",
            "Choose Your Difficulty Level:\n",
            "                      1) Easy   (Press E)\n",
            "                      2) Medium (Press M)\n",
            "                      3) Hard   (Press H)\n",
            "                    H\n",
            "The Number is now between 0-500.\n",
            "Attempt 1/8: Guess the number: 200\n",
            "The number you guessed is too low.\n",
            "Attempt 2/8: Guess the number: 300\n",
            "The number you guessed is too low.\n",
            "Attempt 3/8: Guess the number: 400\n",
            "The number you guessed is too high.\n",
            "Attempt 4/8: Guess the number: 360\n",
            "The number you guessed is too low.\n",
            "Attempt 5/8: Guess the number: 380\n",
            "The number you guessed is too low.\n",
            "Attempt 6/8: Guess the number: 395\n",
            "The number you guessed is too high.\n",
            "Attempt 7/8: Guess the number: 384\n",
            "The number you guessed is too low.\n",
            "Attempt 8/8: Guess the number: 392\n",
            "The number you guessed is too high.\n",
            "Oops! You've used all your 8 attempts. The correct number was 386.\n"
          ]
        }
      ],
      "source": [
        "import random\n",
        "# Starting the game\n",
        "def guess():\n",
        "    print(\"Welcome to the 'Guessing a number' Game\")\n",
        "    command = input('Press S to Start the game: ')\n",
        "    s = command.upper()\n",
        "\n",
        "    if s != 'S':\n",
        "        print(\"Invalid input. Game exits.\")\n",
        "        return  # Exit the function if input isn't S\n",
        "  # Take input of the difficulty level\n",
        "    choice = input('''Choose Your Difficulty Level:\n",
        "                      1) Easy   (Press E)\n",
        "                      2) Medium (Press M)\n",
        "                      3) Hard   (Press H)\n",
        "                    ''')\n",
        "  # Initializing attempts\n",
        "    guess_correctly = False\n",
        "    attempt = 0\n",
        "\n",
        "    c = choice.upper()\n",
        "    if c == 'E':\n",
        "        print(\"The Number is now between 0-50.\")\n",
        "        number = random.randint(0, 50)\n",
        "        max_attempts = 3  # Set maximum attempts for easy level\n",
        "    elif c == 'M':\n",
        "        print(\"The Number is now between 0-200.\")\n",
        "        number = random.randint(0, 200)\n",
        "        max_attempts = 5  # Set maximum attempts for medium level\n",
        "    elif c == 'H':\n",
        "        print(\"The Number is now between 0-500.\")\n",
        "        number = random.randint(0, 500)\n",
        "        max_attempts = 8  # Set maximum attempts for hard level\n",
        "    else:\n",
        "        print(\"Unmatched difficulty level!\")\n",
        "        return  # Exit if difficulty level not matched\n",
        "\n",
        "    while not guess_correctly and attempt < max_attempts:\n",
        "        guess_number = int(input(f\"Attempt {attempt + 1}/{max_attempts}: Guess the number: \"))\n",
        "        attempt += 1\n",
        "\n",
        "        if guess_number < number:\n",
        "            print(\"The number you guessed is too low.\")\n",
        "        elif guess_number > number:\n",
        "            print(\"The number you guessed is too high.\")\n",
        "        elif guess_number == number:\n",
        "            print(f\"Congratulations! You guessed the correct number {number} in {attempt} attempts.\")\n",
        "            guess_correctly = True\n",
        "\n",
        "    if not guess_correctly:\n",
        "        print(f\"Oops! You've used all your {max_attempts} attempts. The correct number was {number}.\")\n",
        "\n",
        "# Repeat the game\n",
        "guess()"
      ]
    },
    {
      "cell_type": "code",
      "execution_count": null,
      "metadata": {
        "id": "Rj4T05G1dk-T"
      },
      "outputs": [],
      "source": []
    }
  ],
  "metadata": {
    "colab": {
      "provenance": []
    },
    "kernelspec": {
      "display_name": "Python 3",
      "name": "python3"
    },
    "language_info": {
      "name": "python"
    }
  },
  "nbformat": 4,
  "nbformat_minor": 0
}